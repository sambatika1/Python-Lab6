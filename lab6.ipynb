{
 "cells": [
  {
   "cell_type": "code",
   "execution_count": null,
   "id": "697598c5",
   "metadata": {},
   "outputs": [],
   "source": [
    "num = input(\"Enter the person's phone number \")\n",
    "phone_book = {\n",
    "    \"Amal\": \"1111111111\",\n",
    "    \"Mohammed\": \"2222222222\",\n",
    "    \"Khadijah\": \"3333333333\",\n",
    "    \"Abdullah\": \"4444444444\",\n",
    "    \"Rawan\": \"5555555555\",\n",
    "    \"Faisal\": \"6666666666\",\n",
    "    \"Layla\": \"7777777777\"\n",
    "}\n",
    "\n",
    "\n",
    "if len(num) != 10 or not num.isdigit():\n",
    "    print(\"This is invalid number\")\n",
    "else:\n",
    "    owner = None\n",
    "    for key, value in phone_book.items():\n",
    "        if value == num:\n",
    "            owner = key\n",
    "            break\n",
    "    if owner is not None:\n",
    "        print(f\"The owner is {owner} \")\n",
    "    else:\n",
    "        print(\"Sorry, the number is not found\")"
   ]
  },
  {
   "cell_type": "code",
   "execution_count": null,
   "id": "6b4b406e",
   "metadata": {},
   "outputs": [],
   "source": []
  },
  {
   "cell_type": "code",
   "execution_count": null,
   "id": "389bd1ec",
   "metadata": {},
   "outputs": [],
   "source": []
  },
  {
   "cell_type": "code",
   "execution_count": null,
   "id": "cf117195",
   "metadata": {},
   "outputs": [],
   "source": []
  }
 ],
 "metadata": {
  "kernelspec": {
   "display_name": "Python 3 (ipykernel)",
   "language": "python",
   "name": "python3"
  },
  "language_info": {
   "codemirror_mode": {
    "name": "ipython",
    "version": 3
   },
   "file_extension": ".py",
   "mimetype": "text/x-python",
   "name": "python",
   "nbconvert_exporter": "python",
   "pygments_lexer": "ipython3",
   "version": "3.9.16"
  }
 },
 "nbformat": 4,
 "nbformat_minor": 5
}
